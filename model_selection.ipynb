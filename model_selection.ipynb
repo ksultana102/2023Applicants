{
 "cells": [
  {
   "cell_type": "code",
   "execution_count": 21,
   "id": "52cd8928",
   "metadata": {},
   "outputs": [
    {
     "name": "stdout",
     "output_type": "stream",
     "text": [
      "0    517\n",
      "2     20\n",
      "1     19\n",
      "Name: selection_type, dtype: int64\n",
      "Classification Report with Adjusted Class Weights:\n",
      "              precision    recall  f1-score   support\n",
      "\n",
      "           0       0.94      0.96      0.95       157\n",
      "           1       0.00      0.00      0.00         4\n",
      "           2       0.00      0.00      0.00         6\n",
      "\n",
      "    accuracy                           0.90       167\n",
      "   macro avg       0.31      0.32      0.32       167\n",
      "weighted avg       0.88      0.90      0.89       167\n",
      "\n"
     ]
    }
   ],
   "source": [
    "import matplotlib.pyplot as plt\n",
    "\n",
    "# Load the selected data\n",
    "selected_data = pd.read_csv('C:/Users/ksultana/Videos/Internship/selected_data.csv')\n",
    "\n",
    "\n",
    "counts = selected_data['selection_type'].value_counts()\n",
    "\n",
    "# Print the counts\n",
    "print(counts)\n",
    "\n",
    "\n",
    "# Calculate class weights based on the inverse of class counts\n",
    "class_counts = selected_data['selection_type'].value_counts()\n",
    "total_samples = len(selected_data)\n",
    "\n",
    "class_weights = {0: total_samples / class_counts[0],\n",
    "                 1: total_samples / class_counts[1],\n",
    "                 2: total_samples / class_counts[2]}\n",
    "\n",
    "# Normalize the weights so that the maximum weight is 10\n",
    "max_weight = max(class_weights.values())\n",
    "class_weights_normalized = {key: value / max_weight * 10 for key, value in class_weights.items()}\n",
    "\n",
    "# Create the logistic regression model with class weights\n",
    "model_weighted = LogisticRegression(solver='liblinear', class_weight=class_weights_normalized).fit(X_train, y_train)\n",
    "\n",
    "# Evaluate the model\n",
    "y_pred_weighted = model_weighted.predict(X_test)\n",
    "\n",
    "# Print the updated classification report\n",
    "print(\"Classification Report with Adjusted Class Weights:\")\n",
    "print(classification_report(y_test, y_pred_weighted))\n"
   ]
  },
  {
   "cell_type": "code",
   "execution_count": 10,
   "id": "8b31a82b",
   "metadata": {},
   "outputs": [
    {
     "name": "stdout",
     "output_type": "stream",
     "text": [
      "Coefficients: [[-0.06789506  0.00809226  0.12118406  0.01483623 -0.05723382  0.00581175\n",
      "  -0.00777832  0.39603517]\n",
      " [-0.36026219  0.00272353 -0.19596212 -0.01504033  0.09632335 -0.00161262\n",
      "   0.04093398 -0.83090017]\n",
      " [ 0.08234535 -0.03476912 -0.08293095 -0.03043077  0.01733158 -0.02626551\n",
      "  -0.04558308  0.1662237 ]]\n",
      "Intercept: [ 0.97561383 -0.73759926 -0.24647045]\n"
     ]
    }
   ],
   "source": [
    "# Perform logistic regression on the training set using solver='liblinear'\n",
    "from sklearn.linear_model import LogisticRegression\n",
    "model = LogisticRegression(solver='liblinear').fit(X_train, y_train)\n",
    "\n",
    "# Coefficients and intercept\n",
    "print(\"Coefficients:\", model.coef_)\n",
    "print(\"Intercept:\", model.intercept_)"
   ]
  },
  {
   "cell_type": "code",
   "execution_count": 11,
   "id": "2b96833a",
   "metadata": {},
   "outputs": [
    {
     "name": "stdout",
     "output_type": "stream",
     "text": [
      "Training Accuracy: 0.93\n",
      "Testing Accuracy: 0.94\n"
     ]
    }
   ],
   "source": [
    "# Print the training and testing accuracy of the model\n",
    "from sklearn.metrics import accuracy_score\n",
    "train_accuracy = accuracy_score(y_train, model.predict(X_train))\n",
    "test_accuracy = accuracy_score(y_test, model.predict(X_test))\n",
    "print(f\"Training Accuracy: {train_accuracy:.2f}\")\n",
    "print(f\"Testing Accuracy: {test_accuracy:.2f}\")"
   ]
  },
  {
   "cell_type": "code",
   "execution_count": 12,
   "id": "a17d5baf",
   "metadata": {},
   "outputs": [
    {
     "name": "stdout",
     "output_type": "stream",
     "text": [
      "Confusion Matrix:\n",
      "[[157   0   0]\n",
      " [  4   0   0]\n",
      " [  6   0   0]]\n"
     ]
    }
   ],
   "source": [
    "# Print the confusion matrix\n",
    "from sklearn.metrics import confusion_matrix\n",
    "conf_matrix = confusion_matrix(y_test, model.predict(X_test))\n",
    "print(\"Confusion Matrix:\")\n",
    "print(conf_matrix)"
   ]
  },
  {
   "cell_type": "code",
   "execution_count": 15,
   "id": "4d470fbc",
   "metadata": {},
   "outputs": [
    {
     "name": "stdout",
     "output_type": "stream",
     "text": [
      "Classification Report:\n",
      "              precision    recall  f1-score   support\n",
      "\n",
      "           0       0.94      1.00      0.97       157\n",
      "           1       0.00      0.00      0.00         4\n",
      "           2       0.00      0.00      0.00         6\n",
      "\n",
      "    accuracy                           0.94       167\n",
      "   macro avg       0.31      0.33      0.32       167\n",
      "weighted avg       0.88      0.94      0.91       167\n",
      "\n"
     ]
    }
   ],
   "source": [
    "# Print the classification report\n",
    "import warnings\n",
    "warnings.filterwarnings('ignore')\n",
    "from sklearn.metrics import classification_report\n",
    "class_report = classification_report(y_test, model.predict(X_test))\n",
    "print(\"Classification Report:\")\n",
    "print(class_report)"
   ]
  },
  {
   "cell_type": "code",
   "execution_count": 23,
   "id": "c2ebf836",
   "metadata": {},
   "outputs": [
    {
     "name": "stdout",
     "output_type": "stream",
     "text": [
      "Classification Report:\n",
      "              precision    recall  f1-score   support\n",
      "\n",
      "           0       0.94      1.00      0.97       157\n",
      "           1       0.00      0.00      0.00         4\n",
      "           2       0.00      0.00      0.00         6\n",
      "\n",
      "    accuracy                           0.94       167\n",
      "   macro avg       0.31      0.33      0.32       167\n",
      "weighted avg       0.88      0.94      0.91       167\n",
      "\n"
     ]
    }
   ],
   "source": [
    "import pandas as pd\n",
    "from sklearn.model_selection import train_test_split\n",
    "from sklearn.ensemble import RandomForestClassifier\n",
    "from sklearn.metrics import classification_report\n",
    "\n",
    "# Load the selected data\n",
    "selected_data = pd.read_csv('C:/Users/ksultana/Videos/Internship/selected_data.csv')\n",
    "\n",
    "# Separate features (X) and target variable (y)\n",
    "X = selected_data.drop('selection_type', axis=1)\n",
    "y = selected_data['selection_type']\n",
    "\n",
    "# Split the data into training and testing sets\n",
    "X_train, X_test, y_train, y_test = train_test_split(X, y, test_size=0.3, random_state=42)\n",
    "\n",
    "# Define class weights based on the inverse of class counts\n",
    "class_counts = y_train.value_counts()\n",
    "class_weights = dict(1 / class_counts)\n",
    "\n",
    "# Create and fit the RandomForestClassifier with class weights\n",
    "rf = RandomForestClassifier(class_weight=class_weights, random_state=42)\n",
    "rf.fit(X_train, y_train)\n",
    "\n",
    "# Make predictions on the test set\n",
    "y_pred = rf.predict(X_test)\n",
    "\n",
    "# Print the classification report\n",
    "print(\"Classification Report:\")\n",
    "print(classification_report(y_test, y_pred))\n"
   ]
  }
 ],
 "metadata": {
  "kernelspec": {
   "display_name": "Python 3 (ipykernel)",
   "language": "python",
   "name": "python3"
  },
  "language_info": {
   "codemirror_mode": {
    "name": "ipython",
    "version": 3
   },
   "file_extension": ".py",
   "mimetype": "text/x-python",
   "name": "python",
   "nbconvert_exporter": "python",
   "pygments_lexer": "ipython3",
   "version": "3.9.13"
  }
 },
 "nbformat": 4,
 "nbformat_minor": 5
}
